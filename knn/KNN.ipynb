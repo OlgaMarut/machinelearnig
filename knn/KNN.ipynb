{
 "cells": [
  {
   "cell_type": "code",
   "execution_count": 3,
   "id": "0bd1b010",
   "metadata": {},
   "outputs": [],
   "source": [
    "import pandas as pd\n",
    "import numpy as np\n",
    "import pickle\n",
    "import statsmodels.api as sm\n",
    "from sklearn import metrics\n",
    "import matplotlib.pyplot as plt\n",
    "\n",
    "plt.style.use('seaborn-ticks')\n",
    "%matplotlib inline"
   ]
  },
  {
   "cell_type": "code",
   "execution_count": 8,
   "id": "942b69c5",
   "metadata": {},
   "outputs": [
    {
     "name": "stdout",
     "output_type": "stream",
     "text": [
      "(30000, 25)\n"
     ]
    },
    {
     "data": {
      "text/html": [
       "<div>\n",
       "<style scoped>\n",
       "    .dataframe tbody tr th:only-of-type {\n",
       "        vertical-align: middle;\n",
       "    }\n",
       "\n",
       "    .dataframe tbody tr th {\n",
       "        vertical-align: top;\n",
       "    }\n",
       "\n",
       "    .dataframe thead th {\n",
       "        text-align: right;\n",
       "    }\n",
       "</style>\n",
       "<table border=\"1\" class=\"dataframe\">\n",
       "  <thead>\n",
       "    <tr style=\"text-align: right;\">\n",
       "      <th></th>\n",
       "      <th>ID</th>\n",
       "      <th>LIMIT_BAL</th>\n",
       "      <th>SEX</th>\n",
       "      <th>EDUCATION</th>\n",
       "      <th>MARRIAGE</th>\n",
       "      <th>AGE</th>\n",
       "      <th>PAY_0</th>\n",
       "      <th>PAY_2</th>\n",
       "      <th>PAY_3</th>\n",
       "      <th>PAY_4</th>\n",
       "      <th>...</th>\n",
       "      <th>BILL_AMT4</th>\n",
       "      <th>BILL_AMT5</th>\n",
       "      <th>BILL_AMT6</th>\n",
       "      <th>PAY_AMT1</th>\n",
       "      <th>PAY_AMT2</th>\n",
       "      <th>PAY_AMT3</th>\n",
       "      <th>PAY_AMT4</th>\n",
       "      <th>PAY_AMT5</th>\n",
       "      <th>PAY_AMT6</th>\n",
       "      <th>default payment next month</th>\n",
       "    </tr>\n",
       "  </thead>\n",
       "  <tbody>\n",
       "    <tr>\n",
       "      <th>0</th>\n",
       "      <td>1</td>\n",
       "      <td>20000</td>\n",
       "      <td>female</td>\n",
       "      <td>university</td>\n",
       "      <td>married</td>\n",
       "      <td>24</td>\n",
       "      <td>2</td>\n",
       "      <td>2</td>\n",
       "      <td>-1</td>\n",
       "      <td>-1</td>\n",
       "      <td>...</td>\n",
       "      <td>0</td>\n",
       "      <td>0</td>\n",
       "      <td>0</td>\n",
       "      <td>0</td>\n",
       "      <td>689</td>\n",
       "      <td>0</td>\n",
       "      <td>0</td>\n",
       "      <td>0</td>\n",
       "      <td>0</td>\n",
       "      <td>yes</td>\n",
       "    </tr>\n",
       "    <tr>\n",
       "      <th>1</th>\n",
       "      <td>2</td>\n",
       "      <td>120000</td>\n",
       "      <td>female</td>\n",
       "      <td>university</td>\n",
       "      <td>single</td>\n",
       "      <td>26</td>\n",
       "      <td>-1</td>\n",
       "      <td>2</td>\n",
       "      <td>0</td>\n",
       "      <td>0</td>\n",
       "      <td>...</td>\n",
       "      <td>3272</td>\n",
       "      <td>3455</td>\n",
       "      <td>3261</td>\n",
       "      <td>0</td>\n",
       "      <td>1000</td>\n",
       "      <td>1000</td>\n",
       "      <td>1000</td>\n",
       "      <td>0</td>\n",
       "      <td>2000</td>\n",
       "      <td>yes</td>\n",
       "    </tr>\n",
       "    <tr>\n",
       "      <th>2</th>\n",
       "      <td>3</td>\n",
       "      <td>90000</td>\n",
       "      <td>female</td>\n",
       "      <td>university</td>\n",
       "      <td>single</td>\n",
       "      <td>34</td>\n",
       "      <td>0</td>\n",
       "      <td>0</td>\n",
       "      <td>0</td>\n",
       "      <td>0</td>\n",
       "      <td>...</td>\n",
       "      <td>14331</td>\n",
       "      <td>14948</td>\n",
       "      <td>15549</td>\n",
       "      <td>1518</td>\n",
       "      <td>1500</td>\n",
       "      <td>1000</td>\n",
       "      <td>1000</td>\n",
       "      <td>1000</td>\n",
       "      <td>5000</td>\n",
       "      <td>no</td>\n",
       "    </tr>\n",
       "    <tr>\n",
       "      <th>3</th>\n",
       "      <td>4</td>\n",
       "      <td>50000</td>\n",
       "      <td>female</td>\n",
       "      <td>university</td>\n",
       "      <td>married</td>\n",
       "      <td>37</td>\n",
       "      <td>0</td>\n",
       "      <td>0</td>\n",
       "      <td>0</td>\n",
       "      <td>0</td>\n",
       "      <td>...</td>\n",
       "      <td>28314</td>\n",
       "      <td>28959</td>\n",
       "      <td>29547</td>\n",
       "      <td>2000</td>\n",
       "      <td>2019</td>\n",
       "      <td>1200</td>\n",
       "      <td>1100</td>\n",
       "      <td>1069</td>\n",
       "      <td>1000</td>\n",
       "      <td>no</td>\n",
       "    </tr>\n",
       "    <tr>\n",
       "      <th>4</th>\n",
       "      <td>5</td>\n",
       "      <td>50000</td>\n",
       "      <td>male</td>\n",
       "      <td>university</td>\n",
       "      <td>married</td>\n",
       "      <td>57</td>\n",
       "      <td>-1</td>\n",
       "      <td>0</td>\n",
       "      <td>-1</td>\n",
       "      <td>0</td>\n",
       "      <td>...</td>\n",
       "      <td>20940</td>\n",
       "      <td>19146</td>\n",
       "      <td>19131</td>\n",
       "      <td>2000</td>\n",
       "      <td>36681</td>\n",
       "      <td>10000</td>\n",
       "      <td>9000</td>\n",
       "      <td>689</td>\n",
       "      <td>679</td>\n",
       "      <td>no</td>\n",
       "    </tr>\n",
       "  </tbody>\n",
       "</table>\n",
       "<p>5 rows × 25 columns</p>\n",
       "</div>"
      ],
      "text/plain": [
       "   ID  LIMIT_BAL     SEX   EDUCATION MARRIAGE  AGE  PAY_0  PAY_2  PAY_3  \\\n",
       "0   1      20000  female  university  married   24      2      2     -1   \n",
       "1   2     120000  female  university   single   26     -1      2      0   \n",
       "2   3      90000  female  university   single   34      0      0      0   \n",
       "3   4      50000  female  university  married   37      0      0      0   \n",
       "4   5      50000    male  university  married   57     -1      0     -1   \n",
       "\n",
       "   PAY_4  ...  BILL_AMT4  BILL_AMT5  BILL_AMT6  PAY_AMT1  PAY_AMT2  PAY_AMT3  \\\n",
       "0     -1  ...          0          0          0         0       689         0   \n",
       "1      0  ...       3272       3455       3261         0      1000      1000   \n",
       "2      0  ...      14331      14948      15549      1518      1500      1000   \n",
       "3      0  ...      28314      28959      29547      2000      2019      1200   \n",
       "4      0  ...      20940      19146      19131      2000     36681     10000   \n",
       "\n",
       "   PAY_AMT4  PAY_AMT5  PAY_AMT6  default payment next month  \n",
       "0         0         0         0                         yes  \n",
       "1      1000         0      2000                         yes  \n",
       "2      1000      1000      5000                          no  \n",
       "3      1100      1069      1000                          no  \n",
       "4      9000       689       679                          no  \n",
       "\n",
       "[5 rows x 25 columns]"
      ]
     },
     "execution_count": 8,
     "metadata": {},
     "output_type": "execute_result"
    }
   ],
   "source": [
    "dane = pd.read_excel(\"default of credit card clients.xls\")\n",
    "print(dane.shape)\n",
    "dane.head()"
   ]
  },
  {
   "cell_type": "code",
   "execution_count": 9,
   "id": "a266088c",
   "metadata": {},
   "outputs": [],
   "source": [
    "# usuniecie zmiennej porzadkowej ID\n",
    "dane = dane.drop(columns=['ID'])"
   ]
  },
  {
   "cell_type": "code",
   "execution_count": 10,
   "id": "7c41ee4c",
   "metadata": {},
   "outputs": [
    {
     "data": {
      "text/plain": [
       "Index(['LIMIT_BAL', 'SEX', 'EDUCATION', 'MARRIAGE', 'AGE', 'PAY_0', 'PAY_2',\n",
       "       'PAY_3', 'PAY_4', 'PAY_5', 'PAY_6', 'BILL_AMT1', 'BILL_AMT2',\n",
       "       'BILL_AMT3', 'BILL_AMT4', 'BILL_AMT5', 'BILL_AMT6', 'PAY_AMT1',\n",
       "       'PAY_AMT2', 'PAY_AMT3', 'PAY_AMT4', 'PAY_AMT5', 'PAY_AMT6',\n",
       "       'default payment next month'],\n",
       "      dtype='object')"
      ]
     },
     "execution_count": 10,
     "metadata": {},
     "output_type": "execute_result"
    }
   ],
   "source": [
    "dane.columns"
   ]
  },
  {
   "cell_type": "code",
   "execution_count": 11,
   "id": "de07154d",
   "metadata": {},
   "outputs": [],
   "source": [
    "#zmiana nazw kolumn\n",
    "dane.columns = ['LIMIT_BAL', 'SEX', 'EDUCATION', 'MARRIAGE', 'AGE', 'PAY_0',\n",
    "       'PAY_2', 'PAY_3', 'PAY_4', 'PAY_5', 'PAY_6', 'BILL_AMT1',\n",
    "       'BILL_AMT2', 'BILL_AMT3', 'BILL_AMT4', 'BILL_AMT5', 'BILL_AMT6',\n",
    "       'PAY_AMT1', 'PAY_AMT2', 'PAY_AMT3', 'PAY_AMT4', 'PAY_AMT5',\n",
    "       'PAY_AMT6', 'default']"
   ]
  },
  {
   "cell_type": "code",
   "execution_count": 12,
   "id": "84944f61",
   "metadata": {},
   "outputs": [
    {
     "data": {
      "text/html": [
       "<div>\n",
       "<style scoped>\n",
       "    .dataframe tbody tr th:only-of-type {\n",
       "        vertical-align: middle;\n",
       "    }\n",
       "\n",
       "    .dataframe tbody tr th {\n",
       "        vertical-align: top;\n",
       "    }\n",
       "\n",
       "    .dataframe thead th {\n",
       "        text-align: right;\n",
       "    }\n",
       "</style>\n",
       "<table border=\"1\" class=\"dataframe\">\n",
       "  <thead>\n",
       "    <tr style=\"text-align: right;\">\n",
       "      <th></th>\n",
       "      <th>LIMIT_BAL</th>\n",
       "      <th>SEX</th>\n",
       "      <th>EDUCATION</th>\n",
       "      <th>MARRIAGE</th>\n",
       "      <th>AGE</th>\n",
       "      <th>PAY_0</th>\n",
       "      <th>PAY_2</th>\n",
       "      <th>PAY_3</th>\n",
       "      <th>PAY_4</th>\n",
       "      <th>PAY_5</th>\n",
       "      <th>...</th>\n",
       "      <th>BILL_AMT4</th>\n",
       "      <th>BILL_AMT5</th>\n",
       "      <th>BILL_AMT6</th>\n",
       "      <th>PAY_AMT1</th>\n",
       "      <th>PAY_AMT2</th>\n",
       "      <th>PAY_AMT3</th>\n",
       "      <th>PAY_AMT4</th>\n",
       "      <th>PAY_AMT5</th>\n",
       "      <th>PAY_AMT6</th>\n",
       "      <th>default</th>\n",
       "    </tr>\n",
       "  </thead>\n",
       "  <tbody>\n",
       "    <tr>\n",
       "      <th>0</th>\n",
       "      <td>20000</td>\n",
       "      <td>female</td>\n",
       "      <td>university</td>\n",
       "      <td>married</td>\n",
       "      <td>24</td>\n",
       "      <td>2</td>\n",
       "      <td>2</td>\n",
       "      <td>-1</td>\n",
       "      <td>-1</td>\n",
       "      <td>-2</td>\n",
       "      <td>...</td>\n",
       "      <td>0</td>\n",
       "      <td>0</td>\n",
       "      <td>0</td>\n",
       "      <td>0</td>\n",
       "      <td>689</td>\n",
       "      <td>0</td>\n",
       "      <td>0</td>\n",
       "      <td>0</td>\n",
       "      <td>0</td>\n",
       "      <td>yes</td>\n",
       "    </tr>\n",
       "    <tr>\n",
       "      <th>1</th>\n",
       "      <td>120000</td>\n",
       "      <td>female</td>\n",
       "      <td>university</td>\n",
       "      <td>single</td>\n",
       "      <td>26</td>\n",
       "      <td>-1</td>\n",
       "      <td>2</td>\n",
       "      <td>0</td>\n",
       "      <td>0</td>\n",
       "      <td>0</td>\n",
       "      <td>...</td>\n",
       "      <td>3272</td>\n",
       "      <td>3455</td>\n",
       "      <td>3261</td>\n",
       "      <td>0</td>\n",
       "      <td>1000</td>\n",
       "      <td>1000</td>\n",
       "      <td>1000</td>\n",
       "      <td>0</td>\n",
       "      <td>2000</td>\n",
       "      <td>yes</td>\n",
       "    </tr>\n",
       "    <tr>\n",
       "      <th>2</th>\n",
       "      <td>90000</td>\n",
       "      <td>female</td>\n",
       "      <td>university</td>\n",
       "      <td>single</td>\n",
       "      <td>34</td>\n",
       "      <td>0</td>\n",
       "      <td>0</td>\n",
       "      <td>0</td>\n",
       "      <td>0</td>\n",
       "      <td>0</td>\n",
       "      <td>...</td>\n",
       "      <td>14331</td>\n",
       "      <td>14948</td>\n",
       "      <td>15549</td>\n",
       "      <td>1518</td>\n",
       "      <td>1500</td>\n",
       "      <td>1000</td>\n",
       "      <td>1000</td>\n",
       "      <td>1000</td>\n",
       "      <td>5000</td>\n",
       "      <td>no</td>\n",
       "    </tr>\n",
       "    <tr>\n",
       "      <th>3</th>\n",
       "      <td>50000</td>\n",
       "      <td>female</td>\n",
       "      <td>university</td>\n",
       "      <td>married</td>\n",
       "      <td>37</td>\n",
       "      <td>0</td>\n",
       "      <td>0</td>\n",
       "      <td>0</td>\n",
       "      <td>0</td>\n",
       "      <td>0</td>\n",
       "      <td>...</td>\n",
       "      <td>28314</td>\n",
       "      <td>28959</td>\n",
       "      <td>29547</td>\n",
       "      <td>2000</td>\n",
       "      <td>2019</td>\n",
       "      <td>1200</td>\n",
       "      <td>1100</td>\n",
       "      <td>1069</td>\n",
       "      <td>1000</td>\n",
       "      <td>no</td>\n",
       "    </tr>\n",
       "    <tr>\n",
       "      <th>4</th>\n",
       "      <td>50000</td>\n",
       "      <td>male</td>\n",
       "      <td>university</td>\n",
       "      <td>married</td>\n",
       "      <td>57</td>\n",
       "      <td>-1</td>\n",
       "      <td>0</td>\n",
       "      <td>-1</td>\n",
       "      <td>0</td>\n",
       "      <td>0</td>\n",
       "      <td>...</td>\n",
       "      <td>20940</td>\n",
       "      <td>19146</td>\n",
       "      <td>19131</td>\n",
       "      <td>2000</td>\n",
       "      <td>36681</td>\n",
       "      <td>10000</td>\n",
       "      <td>9000</td>\n",
       "      <td>689</td>\n",
       "      <td>679</td>\n",
       "      <td>no</td>\n",
       "    </tr>\n",
       "  </tbody>\n",
       "</table>\n",
       "<p>5 rows × 24 columns</p>\n",
       "</div>"
      ],
      "text/plain": [
       "   LIMIT_BAL     SEX   EDUCATION MARRIAGE  AGE  PAY_0  PAY_2  PAY_3  PAY_4  \\\n",
       "0      20000  female  university  married   24      2      2     -1     -1   \n",
       "1     120000  female  university   single   26     -1      2      0      0   \n",
       "2      90000  female  university   single   34      0      0      0      0   \n",
       "3      50000  female  university  married   37      0      0      0      0   \n",
       "4      50000    male  university  married   57     -1      0     -1      0   \n",
       "\n",
       "   PAY_5  ...  BILL_AMT4  BILL_AMT5  BILL_AMT6  PAY_AMT1  PAY_AMT2  PAY_AMT3  \\\n",
       "0     -2  ...          0          0          0         0       689         0   \n",
       "1      0  ...       3272       3455       3261         0      1000      1000   \n",
       "2      0  ...      14331      14948      15549      1518      1500      1000   \n",
       "3      0  ...      28314      28959      29547      2000      2019      1200   \n",
       "4      0  ...      20940      19146      19131      2000     36681     10000   \n",
       "\n",
       "   PAY_AMT4  PAY_AMT5  PAY_AMT6  default  \n",
       "0         0         0         0      yes  \n",
       "1      1000         0      2000      yes  \n",
       "2      1000      1000      5000       no  \n",
       "3      1100      1069      1000       no  \n",
       "4      9000       689       679       no  \n",
       "\n",
       "[5 rows x 24 columns]"
      ]
     },
     "execution_count": 12,
     "metadata": {},
     "output_type": "execute_result"
    }
   ],
   "source": [
    "dane.head()"
   ]
  },
  {
   "cell_type": "code",
   "execution_count": 13,
   "id": "043a1b96",
   "metadata": {},
   "outputs": [],
   "source": [
    "objasniana = \"default\""
   ]
  },
  {
   "cell_type": "code",
   "execution_count": 14,
   "id": "006d7500",
   "metadata": {},
   "outputs": [],
   "source": [
    "objasniajace_numeryczne = ['LIMIT_BAL', 'AGE',\n",
    "                           'BILL_AMT1', 'BILL_AMT2', 'BILL_AMT3', 'BILL_AMT4', 'BILL_AMT5', 'BILL_AMT6', \n",
    "                           'PAY_AMT1', 'PAY_AMT2', 'PAY_AMT3', 'PAY_AMT4', 'PAY_AMT5', 'PAY_AMT6']"
   ]
  },
  {
   "cell_type": "code",
   "execution_count": 15,
   "id": "eb2d9bbe",
   "metadata": {},
   "outputs": [],
   "source": [
    "objasniajace_kategoryczne = ['SEX', 'EDUCATION', 'MARRIAGE', \n",
    "                             'PAY_0', 'PAY_2', 'PAY_3', 'PAY_4', 'PAY_5', 'PAY_6']"
   ]
  },
  {
   "cell_type": "code",
   "execution_count": 16,
   "id": "60b83121",
   "metadata": {},
   "outputs": [
    {
     "data": {
      "text/plain": [
       "(30000, 80)"
      ]
     },
     "execution_count": 16,
     "metadata": {},
     "output_type": "execute_result"
    }
   ],
   "source": [
    "# One hot encoding\n",
    "\n",
    "# zmienne kategoryczne tekstowe\n",
    "zmienne_rozkodowane1 = pd.get_dummies(dane[objasniajace_kategoryczne[1:3]], drop_first=True)\n",
    "\n",
    "# zmienne kategoryczne numeryczne\n",
    "zmienne_rozkodowane2 = pd.get_dummies(dane[objasniajace_kategoryczne[3:9]].astype(str), drop_first=True)\n",
    "\n",
    "# Połączenie zmiennych numerycznych, kategorycznych w postaci on hot encoding oraz targetu\n",
    "dane = pd.concat([dane[objasniajace_numeryczne], zmienne_rozkodowane1, zmienne_rozkodowane2, dane[[objasniana]]], axis=1)\n",
    "\n",
    "dane.shape"
   ]
  },
  {
   "cell_type": "code",
   "execution_count": 17,
   "id": "af9edaf9",
   "metadata": {
    "scrolled": true
   },
   "outputs": [
    {
     "data": {
      "text/plain": [
       "Index(['LIMIT_BAL', 'AGE', 'BILL_AMT1', 'BILL_AMT2', 'BILL_AMT3', 'BILL_AMT4',\n",
       "       'BILL_AMT5', 'BILL_AMT6', 'PAY_AMT1', 'PAY_AMT2', 'PAY_AMT3',\n",
       "       'PAY_AMT4', 'PAY_AMT5', 'PAY_AMT6', 'EDUCATION_highschool',\n",
       "       'EDUCATION_other', 'EDUCATION_university', 'EDUCATION_unknown',\n",
       "       'MARRIAGE_others', 'MARRIAGE_single', 'MARRIAGE_unknown', 'PAY_0_-2',\n",
       "       'PAY_0_0', 'PAY_0_1', 'PAY_0_2', 'PAY_0_3', 'PAY_0_4', 'PAY_0_5',\n",
       "       'PAY_0_6', 'PAY_0_7', 'PAY_0_8', 'PAY_2_-2', 'PAY_2_0', 'PAY_2_1',\n",
       "       'PAY_2_2', 'PAY_2_3', 'PAY_2_4', 'PAY_2_5', 'PAY_2_6', 'PAY_2_7',\n",
       "       'PAY_2_8', 'PAY_3_-2', 'PAY_3_0', 'PAY_3_1', 'PAY_3_2', 'PAY_3_3',\n",
       "       'PAY_3_4', 'PAY_3_5', 'PAY_3_6', 'PAY_3_7', 'PAY_3_8', 'PAY_4_-2',\n",
       "       'PAY_4_0', 'PAY_4_1', 'PAY_4_2', 'PAY_4_3', 'PAY_4_4', 'PAY_4_5',\n",
       "       'PAY_4_6', 'PAY_4_7', 'PAY_4_8', 'PAY_5_-2', 'PAY_5_0', 'PAY_5_2',\n",
       "       'PAY_5_3', 'PAY_5_4', 'PAY_5_5', 'PAY_5_6', 'PAY_5_7', 'PAY_5_8',\n",
       "       'PAY_6_-2', 'PAY_6_0', 'PAY_6_2', 'PAY_6_3', 'PAY_6_4', 'PAY_6_5',\n",
       "       'PAY_6_6', 'PAY_6_7', 'PAY_6_8', 'default'],\n",
       "      dtype='object')"
      ]
     },
     "execution_count": 17,
     "metadata": {},
     "output_type": "execute_result"
    }
   ],
   "source": [
    "# nowe kolumny\n",
    "dane.columns"
   ]
  },
  {
   "cell_type": "code",
   "execution_count": 18,
   "id": "5f32ec6d",
   "metadata": {},
   "outputs": [
    {
     "data": {
      "text/plain": [
       "no     23364\n",
       "yes     6636\n",
       "Name: default, dtype: int64"
      ]
     },
     "execution_count": 18,
     "metadata": {},
     "output_type": "execute_result"
    }
   ],
   "source": [
    "# wyświetlam liczbę obserwacji 0 / 1 dla zmiennej default\n",
    "\n",
    "dane[objasniana].value_counts()"
   ]
  },
  {
   "cell_type": "code",
   "execution_count": 19,
   "id": "1e720d8d",
   "metadata": {},
   "outputs": [],
   "source": [
    "# standaryzuję zmienne numeryczne\n",
    "\n",
    "dane[objasniajace_numeryczne] = dane[objasniajace_numeryczne].apply(lambda x: (x-x.mean())/x.std())"
   ]
  },
  {
   "cell_type": "code",
   "execution_count": 20,
   "id": "cb4470a3",
   "metadata": {},
   "outputs": [
    {
     "name": "stdout",
     "output_type": "stream",
     "text": [
      "['LIMIT_BAL', 'AGE', 'BILL_AMT1', 'BILL_AMT2', 'BILL_AMT3', 'BILL_AMT4', 'BILL_AMT5', 'BILL_AMT6', 'PAY_AMT1', 'PAY_AMT2', 'PAY_AMT3', 'PAY_AMT4', 'PAY_AMT5', 'PAY_AMT6', 'EDUCATION_highschool', 'EDUCATION_other', 'EDUCATION_university', 'EDUCATION_unknown', 'MARRIAGE_others', 'MARRIAGE_single', 'MARRIAGE_unknown', 'PAY_0_-2', 'PAY_0_0', 'PAY_0_1', 'PAY_0_2', 'PAY_0_3', 'PAY_0_4', 'PAY_0_5', 'PAY_0_6', 'PAY_0_7', 'PAY_0_8', 'PAY_2_-2', 'PAY_2_0', 'PAY_2_1', 'PAY_2_2', 'PAY_2_3', 'PAY_2_4', 'PAY_2_5', 'PAY_2_6', 'PAY_2_7', 'PAY_2_8', 'PAY_3_-2', 'PAY_3_0', 'PAY_3_1', 'PAY_3_2', 'PAY_3_3', 'PAY_3_4', 'PAY_3_5', 'PAY_3_6', 'PAY_3_7', 'PAY_3_8', 'PAY_4_-2', 'PAY_4_0', 'PAY_4_1', 'PAY_4_2', 'PAY_4_3', 'PAY_4_4', 'PAY_4_5', 'PAY_4_6', 'PAY_4_7', 'PAY_4_8', 'PAY_5_-2', 'PAY_5_0', 'PAY_5_2', 'PAY_5_3', 'PAY_5_4', 'PAY_5_5', 'PAY_5_6', 'PAY_5_7', 'PAY_5_8', 'PAY_6_-2', 'PAY_6_0', 'PAY_6_2', 'PAY_6_3', 'PAY_6_4', 'PAY_6_5', 'PAY_6_6', 'PAY_6_7', 'PAY_6_8']\n"
     ]
    }
   ],
   "source": [
    "# robię liste zmiennych objaśniających\n",
    "\n",
    "lista_zmiennych = dane.columns.tolist()\n",
    "lista_zmiennych.remove(objasniana)\n",
    "print(lista_zmiennych)"
   ]
  },
  {
   "cell_type": "markdown",
   "id": "c050ab2d",
   "metadata": {},
   "source": [
    "# Pierwszy model"
   ]
  },
  {
   "cell_type": "code",
   "execution_count": 21,
   "id": "f9789858",
   "metadata": {},
   "outputs": [],
   "source": [
    "# Wczytanie potrzebnych bibliotek\n",
    "from sklearn.model_selection import KFold\n",
    "from sklearn import metrics\n",
    "from sklearn import neighbors\n",
    "from sklearn.metrics import roc_auc_score\n",
    "\n",
    "# Przygotujmy wrapper\n",
    "def walidacja_krzyzowa_knn_1(foldy = 5, poziom = 2020, debug = False, *args, **kwargs):\n",
    "    kf = KFold(n_splits = foldy, shuffle = True, random_state = poziom)\n",
    "\n",
    "    # Listy z wynikami\n",
    "    wyniki_testowe = []\n",
    "    wyniki_treningowe = []\n",
    "    predykcje = []\n",
    "    indeksy = []\n",
    "    \n",
    "    # Pętla walidująca model na kolejnych foldach\n",
    "    for train, test in kf.split(dane.index.values):\n",
    "        # Przygotowanie estymatora\n",
    "        clf = neighbors.KNeighborsClassifier(*args, **kwargs)\n",
    "        if debug:\n",
    "            print(clf)\n",
    "        # Trenowanie modelu\n",
    "        clf.fit(dane.iloc[train][lista_zmiennych], dane.iloc[train][objasniana])\n",
    "\n",
    "        # Przygotowanie prognoz dla zbioru treningowego i testowego\n",
    "        # UWAGA Sklearn zwracał będzie dwie kolumny prawdopodobieństw dla obydwu klas\n",
    "        predykcje_treningowe = clf.predict_proba(dane.iloc[train][lista_zmiennych])[:,1]\n",
    "        predykcje_testowe = clf.predict_proba(dane.iloc[test][lista_zmiennych])[:,1]\n",
    "        \n",
    "        # Zachowajmy informacje o predykcjach dla tego foldu\n",
    "        predykcje.append(predykcje_testowe.tolist().copy())\n",
    "        \n",
    "        # Razem z indeksami w oryginalnym data frame\n",
    "        indeksy.append(dane.iloc[test].index.tolist().copy())\n",
    "        \n",
    "        # Policzenie ROC-AUC dla foldów\n",
    "        oszacowania_treningowe = roc_auc_score((dane[objasniana].iloc[train]==\"yes\").astype(int), predykcje_treningowe)\n",
    "        oszacowania_testowe = roc_auc_score((dane[objasniana].iloc[test]==\"yes\").astype(int), predykcje_testowe)\n",
    "        \n",
    "        # Zapisanie wyników dla foldów\n",
    "        wyniki_treningowe.append(oszacowania_treningowe)\n",
    "        wyniki_testowe.append(oszacowania_testowe)\n",
    "        \n",
    "        # Informowanie o każdym foldzie razem z wynikami treningowymi możemy opcjonalnie wyświetlać w trakcie\n",
    "        if debug:\n",
    "            print(\"Train AUC:\", oszacowania_treningowe,\n",
    "                  \"Valid AUC:\", oszacowania_testowe)\n",
    "        \n",
    "    return wyniki_treningowe, wyniki_testowe, predykcje, indeksy"
   ]
  },
  {
   "cell_type": "code",
   "execution_count": 18,
   "id": "2345b179",
   "metadata": {},
   "outputs": [
    {
     "name": "stdout",
     "output_type": "stream",
     "text": [
      "KNeighborsClassifier(n_jobs=-1, n_neighbors=50)\n",
      "Train AUC: 0.7869959994857808 Valid AUC: 0.7559663493644075\n",
      "KNeighborsClassifier(n_jobs=-1, n_neighbors=50)\n",
      "Train AUC: 0.78744887038388 Valid AUC: 0.7499074486861623\n",
      "KNeighborsClassifier(n_jobs=-1, n_neighbors=50)\n",
      "Train AUC: 0.7862088561802176 Valid AUC: 0.7549907458321836\n",
      "KNeighborsClassifier(n_jobs=-1, n_neighbors=50)\n",
      "Train AUC: 0.7874233376223996 Valid AUC: 0.7438427674717139\n",
      "KNeighborsClassifier(n_jobs=-1, n_neighbors=50)\n",
      "Train AUC: 0.7855407767019799 Valid AUC: 0.7538032121103742\n",
      "0.7517021046929683\n"
     ]
    }
   ],
   "source": [
    "# dla 50 sąsiadów, dystansu minkowskiego p=2 czyli z dystansem eklidesowym\n",
    "\n",
    "wyniki_treningowe, wyniki_testowe, predykcje, indeksy = walidacja_krzyzowa_knn_1(n_neighbors=50, n_jobs=-1, p=2, debug=True)\n",
    "\n",
    "print(np.mean(wyniki_testowe))"
   ]
  },
  {
   "cell_type": "markdown",
   "id": "b8097a95",
   "metadata": {},
   "source": [
    "# Poszukiwania odpowiedniej liczby sąsiadów poprzez walidację krzyżową: parametr k"
   ]
  },
  {
   "cell_type": "code",
   "execution_count": 141,
   "id": "587a7245",
   "metadata": {},
   "outputs": [
    {
     "name": "stdout",
     "output_type": "stream",
     "text": [
      "1 0.9987428053532031 0.6120794477726561\n",
      "3 0.9186458037019788 0.6759369542707321\n",
      "5 0.8817942054675454 0.6983381418026584\n",
      "10 0.840006136219114 0.7208113640374555\n",
      "15 0.8217892028026373 0.7328535868287244\n",
      "30 0.7975686101020749 0.7445753179461664\n",
      "50 0.7867235680748516 0.7517021046929683\n",
      "100 0.7750316232851506 0.7548423790405867\n",
      "150 0.7701467800777845 0.755218286686482\n",
      "200 0.7666103556008054 0.7547691070538021\n"
     ]
    }
   ],
   "source": [
    "# Ta pętla przechodzi po wartościach k i dla każdej wykonuje walidację krzyżową.\n",
    "for k in [1, 3, 5, 10, 15, 30, 50, 100, 150, 200]:\n",
    "    wyniki_treningowe, wyniki_testowe, predykcje, indeksy = walidacja_krzyzowa_knn_1(n_neighbors=k, n_jobs=-1, p=2)\n",
    "    print(k, np.mean(wyniki_treningowe), np.mean(wyniki_testowe))"
   ]
  },
  {
   "cell_type": "markdown",
   "id": "5c76e65a",
   "metadata": {},
   "source": [
    "Jak widać, najlepsze wyniki uzyskujemy dla 100, 150 i 200 sąsiadów obserwacji. Powtarzamy pętle dla wartości w tej okolicy z dokładniejszym podziałem."
   ]
  },
  {
   "cell_type": "code",
   "execution_count": 143,
   "id": "a8ed8f3b",
   "metadata": {},
   "outputs": [
    {
     "name": "stdout",
     "output_type": "stream",
     "text": [
      "100 0.7750316232851506 0.7548423790405867\n",
      "125 0.7718196948736274 0.7548526099876737\n",
      "150 0.7701467800777845 0.755218286686482\n",
      "175 0.7682361267583222 0.7551147743469537\n",
      "200 0.7666103556008054 0.7547691070538021\n",
      "225 0.7655433513670864 0.7548640132955974\n",
      "250 0.7644904819203512 0.7548004414475251\n",
      "200 0.7666103556008054 0.7547691070538021\n"
     ]
    }
   ],
   "source": [
    "for k in [100, 125, 150, 175, 200, 225, 250, 200]:\n",
    "    wyniki_treningowe, wyniki_testowe, predykcje, indeksy = walidacja_krzyzowa_knn_1(n_neighbors=k, n_jobs=-1, p=2)\n",
    "    print(k, np.mean(wyniki_treningowe), np.mean(wyniki_testowe))"
   ]
  },
  {
   "cell_type": "markdown",
   "id": "2435ed20",
   "metadata": {},
   "source": [
    "Wyniki są mocno do siebie zbliżone, ale można powiedzieć, że najlepsze dla 150 lub 175 sąsiadów obserwacji."
   ]
  },
  {
   "cell_type": "markdown",
   "id": "a5e417a8",
   "metadata": {},
   "source": [
    "# Poszukiwanie właściwej miary dystansu: parametr p"
   ]
  },
  {
   "cell_type": "markdown",
   "id": "2f02b39d",
   "metadata": {},
   "source": [
    "W pierwszej kolejności sprawdzamy, jak wyniki zmienią się dla p=1, czyli dla miary dystansu Manhattan. Sprawdzamy wyniki otrzymane przy zastosowaniu innej miary dystansu dla liczby sąsiadów wokoło 150, gdyby okazało się, że lekko zmiena się optymalna liczba sąsiadów przyzastosowaniu nowej miary dystanu."
   ]
  },
  {
   "cell_type": "code",
   "execution_count": 21,
   "id": "12b37196",
   "metadata": {},
   "outputs": [
    {
     "name": "stdout",
     "output_type": "stream",
     "text": [
      "100 0.7620529272779956\n",
      "125 0.7623118699197402\n",
      "150 0.7620784846193273\n",
      "175 0.7610728852803449\n",
      "200 0.7608474247872552\n",
      "225 0.7607204009481541\n",
      "250 0.7601966307368101\n",
      "200 0.7608474247872552\n"
     ]
    }
   ],
   "source": [
    "for k in [100, 125, 150, 175, 200, 225, 250, 200]:\n",
    "    wyniki_treningowe, wyniki_testowe, predykcje, indeksy = walidacja_krzyzowa_knn_1(n_neighbors=k, n_jobs=-1, p=1)\n",
    "    print(k, np.mean(wyniki_testowe))"
   ]
  },
  {
   "cell_type": "markdown",
   "id": "f46af2bd",
   "metadata": {},
   "source": [
    "Wyniki nie poprawiły się znacznie, ale subtelną poprawę widać. Póki co najlepsze wyniki otrzymujemy dla 125 sąsiadów i zastosowania paprametru p=1 czyli dla miary odległości Manhattan. "
   ]
  },
  {
   "cell_type": "markdown",
   "id": "fef4ec45",
   "metadata": {},
   "source": [
    "# Wybór zmiennych objaśniających: feature engineering"
   ]
  },
  {
   "cell_type": "code",
   "execution_count": 22,
   "id": "28a661ec",
   "metadata": {},
   "outputs": [],
   "source": [
    "from sklearn.model_selection import KFold\n",
    "from sklearn import metrics\n",
    "from sklearn import neighbors\n",
    "from sklearn.metrics import roc_auc_score\n",
    "\n",
    "features = []\n",
    "\n",
    "# Przygotujmy wrapper\n",
    "def walidacja_krzyzowa_knn_2(foldy = 5, poziom=2020, debug=False, features=features, *args, **kwargs):\n",
    "    kf = KFold(n_splits=foldy, shuffle=True, random_state=poziom)\n",
    "\n",
    "    # Listy z wynikami\n",
    "    wyniki_testowe = []\n",
    "    wyniki_treningowe = []\n",
    "    predykcje = []\n",
    "    indeksy = []\n",
    "    \n",
    "    for train, test in kf.split(dane.index.values):\n",
    "        # Przygotowanie estymatora\n",
    "        clf = neighbors.KNeighborsClassifier(*args, **kwargs)\n",
    "        if debug:\n",
    "            print(clf)\n",
    "        # Trenowanie modelu\n",
    "        clf.fit(dane.iloc[train][features], dane.iloc[train][objasniana])\n",
    "\n",
    "        # Przygotowanie prognoz dla zbioru traeningowego i testowego\n",
    "        # UWAGA Sklearn zwracałbędzie dwie kolumny prawdopodobieństw dla obydwu klas\n",
    "        predykcje_treningowe = clf.predict_proba(dane.iloc[train][features])[:,1]\n",
    "        predykcje_testowe = clf.predict_proba(dane.iloc[test][features])[:,1]\n",
    "        \n",
    "        # Zachowajmy informacje o predykcjach dla tego foldu\n",
    "        predykcje.append(predykcje_testowe.tolist().copy())\n",
    "        \n",
    "        # Razem z indeksami w oryginalnym data frame\n",
    "        indeksy.append(dane.iloc[test].index.tolist().copy())\n",
    "        \n",
    "        # Policzenie ROC-AUC dla foldów\n",
    "        oszacowania_treningowe = roc_auc_score((dane[objasniana].iloc[train]==\"yes\").astype(int), predykcje_treningowe)\n",
    "        oszacowania_testowe = roc_auc_score((dane[objasniana].iloc[test]==\"yes\").astype(int), predykcje_testowe)\n",
    "        \n",
    "        # Zapisanie wyników dla foldów\n",
    "        wyniki_treningowe.append(oszacowania_treningowe)\n",
    "        wyniki_testowe.append(oszacowania_testowe)\n",
    "        \n",
    "        # Informowanie o każdym foldzie razem z wynikami treningowymi możemy opcjonalnie wyświetlać w trakcie\n",
    "        if debug:\n",
    "            print(\"Train AUC:\", oszacowania_treningowe,\n",
    "                  \"Valid AUC:\", oszacowania_testowe)\n",
    "        \n",
    "    return wyniki_treningowe, wyniki_testowe, predykcje, indeksy"
   ]
  },
  {
   "cell_type": "markdown",
   "id": "06c14fe4",
   "metadata": {},
   "source": [
    "Na początku sprawdzamy, jakie wyniki otrzymamy dla modeli z każdą zmienną osobno Modele wykonujemy z parametrami p=1 i liczbą sąsiadów równą 125, ponieważ dla tych wartości póki co otrzymaliśm najlepsze wyniki dla modeli z pełną lista zmiennych z bazy."
   ]
  },
  {
   "cell_type": "code",
   "execution_count": 40,
   "id": "87db6ab9",
   "metadata": {},
   "outputs": [
    {
     "name": "stdout",
     "output_type": "stream",
     "text": [
      "LIMIT_BAL 0.6086940358973363\n",
      "AGE 0.5254667456786359\n",
      "BILL_AMT1 0.530976598360603\n",
      "BILL_AMT2 0.5281944427520467\n",
      "BILL_AMT3 0.5264448335196605\n",
      "BILL_AMT4 0.5315010027711262\n",
      "BILL_AMT5 0.5327150571036589\n",
      "BILL_AMT6 0.5351853386761828\n",
      "PAY_AMT1 0.6169742439063269\n",
      "PAY_AMT2 0.6006513032270908\n",
      "PAY_AMT3 0.5985242461964594\n",
      "PAY_AMT4 0.5832910506613664\n",
      "PAY_AMT5 0.5702583792493667\n",
      "PAY_AMT6 0.5763946321519969\n",
      "EDUCATION_highschool 0.49333236444701356\n",
      "EDUCATION_other 0.501954931937278\n",
      "EDUCATION_university 0.5219718964727937\n",
      "EDUCATION_unknown 0.5048659796003411\n",
      "MARRIAGE_others 0.4987464349797757\n",
      "MARRIAGE_single 0.5185152346665903\n",
      "MARRIAGE_unknown 0.5006730105591176\n",
      "PAY_0_-2 0.5237621530973584\n",
      "PAY_0_0 0.6327031849121786\n",
      "PAY_0_1 0.5421130952574654\n",
      "PAY_0_2 0.6213718891859071\n",
      "PAY_0_3 0.5167126816483335\n",
      "PAY_0_4 0.5034169592369899\n",
      "PAY_0_5 0.5006542771430296\n",
      "PAY_0_6 0.4996691015938854\n",
      "PAY_0_7 0.5002186589319256\n",
      "PAY_0_8 0.5006285465049675\n",
      "PAY_2_-2 0.5089272604697458\n",
      "PAY_2_0 0.5943691486384807\n",
      "PAY_2_1 0.500111417438784\n",
      "PAY_2_2 0.6272339645862515\n",
      "PAY_2_3 0.5124376800456271\n",
      "PAY_2_4 0.5027261528691078\n",
      "PAY_2_5 0.5006159819149887\n",
      "PAY_2_6 0.5001967570558734\n",
      "PAY_2_7 0.5007362594581493\n",
      "PAY_2_8 0.5\n",
      "PAY_3_-2 0.5141961269397906\n",
      "PAY_3_0 0.5711348774016439\n",
      "PAY_3_1 0.5001413997858601\n",
      "PAY_3_2 0.6086803260075453\n",
      "PAY_3_3 0.5082191390732491\n",
      "PAY_3_4 0.5026335638173727\n",
      "PAY_3_5 0.5005648580115064\n",
      "PAY_3_6 0.5008646592578223\n",
      "PAY_3_7 0.5015471008151249\n",
      "PAY_3_8 0.5000212535645823\n",
      "PAY_4_-2 0.5120696005399631\n",
      "PAY_4_0 0.5602745367429106\n",
      "PAY_4_1 0.5000985572671036\n",
      "PAY_4_2 0.5922035953698541\n",
      "PAY_4_3 0.5067870402315606\n",
      "PAY_4_4 0.5029798928396836\n",
      "PAY_4_5 0.5009931407541325\n",
      "PAY_4_6 0.4998712279700558\n",
      "PAY_4_7 0.5033994091890809\n",
      "PAY_4_8 0.49990137876870433\n",
      "PAY_5_-2 0.49962767795588936\n",
      "PAY_5_0 0.5534968433503795\n",
      "PAY_5_2 0.5813815840176018\n",
      "PAY_5_3 0.5071416903918906\n",
      "PAY_5_4 0.5031295967555522\n",
      "PAY_5_5 0.49963448015135886\n",
      "PAY_5_6 0.4999091900777798\n",
      "PAY_5_7 0.5034028831592281\n",
      "PAY_5_8 0.5\n",
      "PAY_6_-2 0.4963889169501147\n",
      "PAY_6_0 0.5515075240882459\n",
      "PAY_6_2 0.5762165367995825\n",
      "PAY_6_3 0.5074832687391364\n",
      "PAY_6_4 0.5019611023739914\n",
      "PAY_6_5 0.4998577495939177\n",
      "PAY_6_6 0.500953386748441\n",
      "PAY_6_7 0.5026879951696362\n",
      "PAY_6_8 0.5\n"
     ]
    }
   ],
   "source": [
    "wyniki = []\n",
    "for zmienna in lista_zmiennych:\n",
    "    # Estymacja pojedynczych modeli\n",
    "    wyniki_treningowe, wyniki_testowe, predykcje, indeksy = walidacja_krzyzowa_knn_2(n_neighbors=125, n_jobs=-1, p=1, features=[zmienna])\n",
    "    print(zmienna, np.mean(wyniki_testowe))\n",
    "    # Zapisanie wyniku\n",
    "    wyniki.append((zmienna, np.mean(wyniki_testowe)))"
   ]
  },
  {
   "cell_type": "markdown",
   "id": "6928a2aa",
   "metadata": {},
   "source": [
    "Sortujemy wyniki malejąco, żeby spradzić, dla których zmiennych zastosowanych pojedynczo w modelu ma on najelpsze rezutaty."
   ]
  },
  {
   "cell_type": "code",
   "execution_count": 41,
   "id": "55be8f9c",
   "metadata": {},
   "outputs": [
    {
     "data": {
      "text/plain": [
       "[('PAY_0_0', 0.6327031849121786),\n",
       " ('PAY_2_2', 0.6272339645862515),\n",
       " ('PAY_0_2', 0.6213718891859071),\n",
       " ('PAY_AMT1', 0.6169742439063269),\n",
       " ('LIMIT_BAL', 0.6086940358973363),\n",
       " ('PAY_3_2', 0.6086803260075453),\n",
       " ('PAY_AMT2', 0.6006513032270908),\n",
       " ('PAY_AMT3', 0.5985242461964594),\n",
       " ('PAY_2_0', 0.5943691486384807),\n",
       " ('PAY_4_2', 0.5922035953698541),\n",
       " ('PAY_AMT4', 0.5832910506613664),\n",
       " ('PAY_5_2', 0.5813815840176018),\n",
       " ('PAY_AMT6', 0.5763946321519969),\n",
       " ('PAY_6_2', 0.5762165367995825),\n",
       " ('PAY_3_0', 0.5711348774016439),\n",
       " ('PAY_AMT5', 0.5702583792493667),\n",
       " ('PAY_4_0', 0.5602745367429106),\n",
       " ('PAY_5_0', 0.5534968433503795),\n",
       " ('PAY_6_0', 0.5515075240882459),\n",
       " ('PAY_0_1', 0.5421130952574654),\n",
       " ('BILL_AMT6', 0.5351853386761828),\n",
       " ('BILL_AMT5', 0.5327150571036589),\n",
       " ('BILL_AMT4', 0.5315010027711262),\n",
       " ('BILL_AMT1', 0.530976598360603),\n",
       " ('BILL_AMT2', 0.5281944427520467),\n",
       " ('BILL_AMT3', 0.5264448335196605),\n",
       " ('AGE', 0.5254667456786359),\n",
       " ('PAY_0_-2', 0.5237621530973584),\n",
       " ('EDUCATION_university', 0.5219718964727937),\n",
       " ('MARRIAGE_single', 0.5185152346665903),\n",
       " ('PAY_0_3', 0.5167126816483335),\n",
       " ('PAY_3_-2', 0.5141961269397906),\n",
       " ('PAY_2_3', 0.5124376800456271),\n",
       " ('PAY_4_-2', 0.5120696005399631),\n",
       " ('PAY_2_-2', 0.5089272604697458),\n",
       " ('PAY_3_3', 0.5082191390732491),\n",
       " ('PAY_6_3', 0.5074832687391364),\n",
       " ('PAY_5_3', 0.5071416903918906),\n",
       " ('PAY_4_3', 0.5067870402315606),\n",
       " ('EDUCATION_unknown', 0.5048659796003411),\n",
       " ('PAY_0_4', 0.5034169592369899),\n",
       " ('PAY_5_7', 0.5034028831592281),\n",
       " ('PAY_4_7', 0.5033994091890809),\n",
       " ('PAY_5_4', 0.5031295967555522),\n",
       " ('PAY_4_4', 0.5029798928396836),\n",
       " ('PAY_2_4', 0.5027261528691078),\n",
       " ('PAY_6_7', 0.5026879951696362),\n",
       " ('PAY_3_4', 0.5026335638173727),\n",
       " ('PAY_6_4', 0.5019611023739914),\n",
       " ('EDUCATION_other', 0.501954931937278),\n",
       " ('PAY_3_7', 0.5015471008151249),\n",
       " ('PAY_4_5', 0.5009931407541325),\n",
       " ('PAY_6_6', 0.500953386748441),\n",
       " ('PAY_3_6', 0.5008646592578223),\n",
       " ('PAY_2_7', 0.5007362594581493),\n",
       " ('MARRIAGE_unknown', 0.5006730105591176),\n",
       " ('PAY_0_5', 0.5006542771430296),\n",
       " ('PAY_0_8', 0.5006285465049675),\n",
       " ('PAY_2_5', 0.5006159819149887),\n",
       " ('PAY_3_5', 0.5005648580115064),\n",
       " ('PAY_0_7', 0.5002186589319256),\n",
       " ('PAY_2_6', 0.5001967570558734),\n",
       " ('PAY_3_1', 0.5001413997858601),\n",
       " ('PAY_2_1', 0.500111417438784),\n",
       " ('PAY_4_1', 0.5000985572671036),\n",
       " ('PAY_3_8', 0.5000212535645823),\n",
       " ('PAY_2_8', 0.5),\n",
       " ('PAY_5_8', 0.5),\n",
       " ('PAY_6_8', 0.5),\n",
       " ('PAY_5_6', 0.4999091900777798),\n",
       " ('PAY_4_8', 0.49990137876870433),\n",
       " ('PAY_4_6', 0.4998712279700558),\n",
       " ('PAY_6_5', 0.4998577495939177),\n",
       " ('PAY_0_6', 0.4996691015938854),\n",
       " ('PAY_5_5', 0.49963448015135886),\n",
       " ('PAY_5_-2', 0.49962767795588936),\n",
       " ('MARRIAGE_others', 0.4987464349797757),\n",
       " ('PAY_6_-2', 0.4963889169501147),\n",
       " ('EDUCATION_highschool', 0.49333236444701356)]"
      ]
     },
     "execution_count": 41,
     "metadata": {},
     "output_type": "execute_result"
    }
   ],
   "source": [
    "wyniki = sorted(wyniki, key=lambda x: x[1], reverse=True)\n",
    "wyniki"
   ]
  },
  {
   "cell_type": "markdown",
   "id": "150a3fb8",
   "metadata": {},
   "source": [
    "Aby sprawdzić, jakie wyniki otrzymujemy dla modeli ze zmiennymi, dla których pojedyncze modele osiągały najlepsze rezultaty, liczymy model dla 125 najbliższych sąsiadów i mierze odległości Manhattan ze zmiennymi o wynikach większych niż 51%"
   ]
  },
  {
   "cell_type": "code",
   "execution_count": 49,
   "id": "0b91b5e2",
   "metadata": {},
   "outputs": [
    {
     "name": "stdout",
     "output_type": "stream",
     "text": [
      "['PAY_0_0', 'PAY_2_2', 'PAY_0_2', 'PAY_AMT1', 'LIMIT_BAL', 'PAY_3_2', 'PAY_AMT2', 'PAY_AMT3', 'PAY_2_0', 'PAY_4_2', 'PAY_AMT4', 'PAY_5_2', 'PAY_AMT6', 'PAY_6_2', 'PAY_3_0', 'PAY_AMT5', 'PAY_4_0', 'PAY_5_0', 'PAY_6_0', 'PAY_0_1', 'BILL_AMT6', 'BILL_AMT5', 'BILL_AMT4', 'BILL_AMT1', 'BILL_AMT2', 'BILL_AMT3', 'AGE', 'PAY_0_-2', 'EDUCATION_university', 'MARRIAGE_single', 'PAY_0_3', 'PAY_3_-2', 'PAY_2_3', 'PAY_4_-2']\n"
     ]
    }
   ],
   "source": [
    "zmienne51 = [x for x,y in wyniki if y > 0.51]\n",
    "print(zmienne51)"
   ]
  },
  {
   "cell_type": "code",
   "execution_count": 50,
   "id": "c67e5817",
   "metadata": {},
   "outputs": [
    {
     "name": "stdout",
     "output_type": "stream",
     "text": [
      "0.7648307519217752\n"
     ]
    }
   ],
   "source": [
    "wyniki_treningowe, wyniki_testowe, predykcje, indeksy = walidacja_krzyzowa_knn_2(n_neighbors=125, n_jobs=-1, p=1, features=zmienne51)\n",
    "print(np.mean(wyniki_testowe))"
   ]
  },
  {
   "cell_type": "markdown",
   "id": "f8566c31",
   "metadata": {},
   "source": [
    "Wynik poprawił się z 76,23% do 76,48%. Jako że jest to niewielka zmiana, sprawdzamy, jak będzie wyglądał model dla zmiennych o wynikach powyżej 50% w modelach z jedną zmienną."
   ]
  },
  {
   "cell_type": "code",
   "execution_count": 52,
   "id": "0db6a53d",
   "metadata": {},
   "outputs": [
    {
     "name": "stdout",
     "output_type": "stream",
     "text": [
      "['PAY_0_0', 'PAY_2_2', 'PAY_0_2', 'PAY_AMT1', 'LIMIT_BAL', 'PAY_3_2', 'PAY_AMT2', 'PAY_AMT3', 'PAY_2_0', 'PAY_4_2', 'PAY_AMT4', 'PAY_5_2', 'PAY_AMT6', 'PAY_6_2', 'PAY_3_0', 'PAY_AMT5', 'PAY_4_0', 'PAY_5_0', 'PAY_6_0', 'PAY_0_1', 'BILL_AMT6', 'BILL_AMT5', 'BILL_AMT4', 'BILL_AMT1', 'BILL_AMT2', 'BILL_AMT3', 'AGE', 'PAY_0_-2', 'EDUCATION_university', 'MARRIAGE_single', 'PAY_0_3', 'PAY_3_-2', 'PAY_2_3', 'PAY_4_-2', 'PAY_2_-2', 'PAY_3_3', 'PAY_6_3', 'PAY_5_3', 'PAY_4_3', 'EDUCATION_unknown', 'PAY_0_4', 'PAY_5_7', 'PAY_4_7', 'PAY_5_4', 'PAY_4_4', 'PAY_2_4', 'PAY_6_7', 'PAY_3_4', 'PAY_6_4', 'EDUCATION_other', 'PAY_3_7', 'PAY_4_5', 'PAY_6_6', 'PAY_3_6', 'PAY_2_7', 'MARRIAGE_unknown', 'PAY_0_5', 'PAY_0_8', 'PAY_2_5', 'PAY_3_5', 'PAY_0_7', 'PAY_2_6', 'PAY_3_1', 'PAY_2_1', 'PAY_4_1', 'PAY_3_8']\n"
     ]
    }
   ],
   "source": [
    "zmienne50 = [x for x,y in wyniki if y > 0.50]\n",
    "print(zmienne50)"
   ]
  },
  {
   "cell_type": "code",
   "execution_count": 53,
   "id": "523be58f",
   "metadata": {},
   "outputs": [
    {
     "name": "stdout",
     "output_type": "stream",
     "text": [
      "0.7638140815776087\n"
     ]
    }
   ],
   "source": [
    "wyniki_treningowe, wyniki_testowe, predykcje, indeksy = walidacja_krzyzowa_knn_2(n_neighbors=125, n_jobs=-1, p=1, features=zmienne50)\n",
    "print(np.mean(wyniki_testowe))"
   ]
  },
  {
   "cell_type": "markdown",
   "id": "65e140e5",
   "metadata": {},
   "source": [
    "Ponieważ włączenie większej liczby zmiennych nawet nieznacznie pogorszyło wyniki, spróbujemy przeprowadzić modele na jeszcze mocniej  ograniczonej liście zmienych niż uprzednio. Wybieramy zmienne, które w pojedynczych modelach osiągały więcej niż 52% i 53%."
   ]
  },
  {
   "cell_type": "code",
   "execution_count": 54,
   "id": "2c00cfca",
   "metadata": {},
   "outputs": [
    {
     "name": "stdout",
     "output_type": "stream",
     "text": [
      "['PAY_0_0', 'PAY_2_2', 'PAY_0_2', 'PAY_AMT1', 'LIMIT_BAL', 'PAY_3_2', 'PAY_AMT2', 'PAY_AMT3', 'PAY_2_0', 'PAY_4_2', 'PAY_AMT4', 'PAY_5_2', 'PAY_AMT6', 'PAY_6_2', 'PAY_3_0', 'PAY_AMT5', 'PAY_4_0', 'PAY_5_0', 'PAY_6_0', 'PAY_0_1', 'BILL_AMT6', 'BILL_AMT5', 'BILL_AMT4', 'BILL_AMT1', 'BILL_AMT2', 'BILL_AMT3', 'AGE', 'PAY_0_-2', 'EDUCATION_university']\n"
     ]
    }
   ],
   "source": [
    "zmienne52 = [x for x,y in wyniki if y > 0.52]\n",
    "print(zmienne52)"
   ]
  },
  {
   "cell_type": "code",
   "execution_count": 55,
   "id": "5c1040ba",
   "metadata": {},
   "outputs": [
    {
     "name": "stdout",
     "output_type": "stream",
     "text": [
      "0.7627063693292552\n"
     ]
    }
   ],
   "source": [
    "wyniki_treningowe, wyniki_testowe, predykcje, indeksy = walidacja_krzyzowa_knn_2(n_neighbors=125, n_jobs=-1, p=1, features=zmienne52)\n",
    "print(np.mean(wyniki_testowe))"
   ]
  },
  {
   "cell_type": "code",
   "execution_count": 31,
   "id": "d626ab1a",
   "metadata": {},
   "outputs": [],
   "source": [
    "#zmienne53 = [x for x,y in wyniki if y > 0.53]\n",
    "#print(zmienne53)\n",
    "\n",
    "# odtwarzam listę z wyników, żeby nie powtarzać obliczeń\n",
    "\n",
    "zmienne53 = ['PAY_0_0', 'PAY_2_2', 'PAY_0_2', 'PAY_AMT1', 'LIMIT_BAL', 'PAY_3_2', 'PAY_AMT2', 'PAY_AMT3', 'PAY_2_0', 'PAY_4_2', 'PAY_AMT4', 'PAY_5_2', 'PAY_AMT6', 'PAY_6_2', 'PAY_3_0', 'PAY_AMT5', 'PAY_4_0', 'PAY_5_0', 'PAY_6_0', 'PAY_0_1', 'BILL_AMT6', 'BILL_AMT5', 'BILL_AMT4', 'BILL_AMT1']"
   ]
  },
  {
   "cell_type": "code",
   "execution_count": 57,
   "id": "9b365202",
   "metadata": {},
   "outputs": [
    {
     "name": "stdout",
     "output_type": "stream",
     "text": [
      "0.7687148541414468\n"
     ]
    }
   ],
   "source": [
    "wyniki_treningowe, wyniki_testowe, predykcje, indeksy = walidacja_krzyzowa_knn_2(n_neighbors=125, n_jobs=-1, p=1, features=zmienne53)\n",
    "print(np.mean(wyniki_testowe))"
   ]
  },
  {
   "cell_type": "code",
   "execution_count": 58,
   "id": "0a2559e7",
   "metadata": {},
   "outputs": [
    {
     "name": "stdout",
     "output_type": "stream",
     "text": [
      "['PAY_0_0', 'PAY_2_2', 'PAY_0_2', 'PAY_AMT1', 'LIMIT_BAL', 'PAY_3_2', 'PAY_AMT2', 'PAY_AMT3', 'PAY_2_0', 'PAY_4_2', 'PAY_AMT4', 'PAY_5_2', 'PAY_AMT6', 'PAY_6_2', 'PAY_3_0', 'PAY_AMT5', 'PAY_4_0', 'PAY_5_0', 'PAY_6_0', 'PAY_0_1']\n"
     ]
    }
   ],
   "source": [
    "zmienne54 = [x for x,y in wyniki if y > 0.54]\n",
    "print(zmienne54)"
   ]
  },
  {
   "cell_type": "code",
   "execution_count": 59,
   "id": "1b3ef6cd",
   "metadata": {},
   "outputs": [
    {
     "name": "stdout",
     "output_type": "stream",
     "text": [
      "0.7672332738032915\n"
     ]
    }
   ],
   "source": [
    "wyniki_treningowe, wyniki_testowe, predykcje, indeksy = walidacja_krzyzowa_knn_2(n_neighbors=125, n_jobs=-1, p=1, features=zmienne54)\n",
    "print(np.mean(wyniki_testowe))"
   ]
  },
  {
   "cell_type": "markdown",
   "id": "9a377aa2",
   "metadata": {},
   "source": [
    "Dla zmiennych o wynikach powyżej 53% uzyskaliśmy póki co najlepsze wyniki (dalsze podnoszneie progu do 54% już nie przyniosło poprawy), więc decydujemy się na pozostawienie takiego zbioru zmiennych"
   ]
  },
  {
   "cell_type": "markdown",
   "id": "3156002e",
   "metadata": {},
   "source": [
    "# Wybór metody skalowania: feature generation"
   ]
  },
  {
   "cell_type": "markdown",
   "id": "6f4f8b3d",
   "metadata": {},
   "source": [
    "Wpier na wszelki wypadek kopiujemy analzowany zbiór danych, ponieważ zaraz będziemy spradzać, jak zwiększenie oddziaływania poszczególnych zmiennych wpłynie na osiągane przez model wyniki."
   ]
  },
  {
   "cell_type": "code",
   "execution_count": 23,
   "id": "b803e5bb",
   "metadata": {},
   "outputs": [],
   "source": [
    "kopia_zbioru = dane.copy()"
   ]
  },
  {
   "cell_type": "code",
   "execution_count": 24,
   "id": "d0b798c9",
   "metadata": {},
   "outputs": [
    {
     "data": {
      "text/html": [
       "<div>\n",
       "<style scoped>\n",
       "    .dataframe tbody tr th:only-of-type {\n",
       "        vertical-align: middle;\n",
       "    }\n",
       "\n",
       "    .dataframe tbody tr th {\n",
       "        vertical-align: top;\n",
       "    }\n",
       "\n",
       "    .dataframe thead th {\n",
       "        text-align: right;\n",
       "    }\n",
       "</style>\n",
       "<table border=\"1\" class=\"dataframe\">\n",
       "  <thead>\n",
       "    <tr style=\"text-align: right;\">\n",
       "      <th></th>\n",
       "      <th>LIMIT_BAL</th>\n",
       "      <th>AGE</th>\n",
       "      <th>BILL_AMT1</th>\n",
       "      <th>BILL_AMT2</th>\n",
       "      <th>BILL_AMT3</th>\n",
       "      <th>BILL_AMT4</th>\n",
       "      <th>BILL_AMT5</th>\n",
       "      <th>BILL_AMT6</th>\n",
       "      <th>PAY_AMT1</th>\n",
       "      <th>PAY_AMT2</th>\n",
       "      <th>...</th>\n",
       "      <th>PAY_6_-2</th>\n",
       "      <th>PAY_6_0</th>\n",
       "      <th>PAY_6_2</th>\n",
       "      <th>PAY_6_3</th>\n",
       "      <th>PAY_6_4</th>\n",
       "      <th>PAY_6_5</th>\n",
       "      <th>PAY_6_6</th>\n",
       "      <th>PAY_6_7</th>\n",
       "      <th>PAY_6_8</th>\n",
       "      <th>default</th>\n",
       "    </tr>\n",
       "  </thead>\n",
       "  <tbody>\n",
       "    <tr>\n",
       "      <th>0</th>\n",
       "      <td>-1.136701</td>\n",
       "      <td>-1.245999</td>\n",
       "      <td>-0.642490</td>\n",
       "      <td>-0.647388</td>\n",
       "      <td>-0.667982</td>\n",
       "      <td>-0.672486</td>\n",
       "      <td>-0.663047</td>\n",
       "      <td>-0.652713</td>\n",
       "      <td>-0.341936</td>\n",
       "      <td>-0.227082</td>\n",
       "      <td>...</td>\n",
       "      <td>1</td>\n",
       "      <td>0</td>\n",
       "      <td>0</td>\n",
       "      <td>0</td>\n",
       "      <td>0</td>\n",
       "      <td>0</td>\n",
       "      <td>0</td>\n",
       "      <td>0</td>\n",
       "      <td>0</td>\n",
       "      <td>yes</td>\n",
       "    </tr>\n",
       "    <tr>\n",
       "      <th>1</th>\n",
       "      <td>-0.365974</td>\n",
       "      <td>-1.029030</td>\n",
       "      <td>-0.659208</td>\n",
       "      <td>-0.666735</td>\n",
       "      <td>-0.639244</td>\n",
       "      <td>-0.621626</td>\n",
       "      <td>-0.606219</td>\n",
       "      <td>-0.597956</td>\n",
       "      <td>-0.341936</td>\n",
       "      <td>-0.213584</td>\n",
       "      <td>...</td>\n",
       "      <td>0</td>\n",
       "      <td>0</td>\n",
       "      <td>1</td>\n",
       "      <td>0</td>\n",
       "      <td>0</td>\n",
       "      <td>0</td>\n",
       "      <td>0</td>\n",
       "      <td>0</td>\n",
       "      <td>0</td>\n",
       "      <td>yes</td>\n",
       "    </tr>\n",
       "    <tr>\n",
       "      <th>2</th>\n",
       "      <td>-0.597192</td>\n",
       "      <td>-0.161154</td>\n",
       "      <td>-0.298555</td>\n",
       "      <td>-0.493891</td>\n",
       "      <td>-0.482400</td>\n",
       "      <td>-0.449723</td>\n",
       "      <td>-0.417181</td>\n",
       "      <td>-0.391623</td>\n",
       "      <td>-0.250287</td>\n",
       "      <td>-0.191884</td>\n",
       "      <td>...</td>\n",
       "      <td>0</td>\n",
       "      <td>1</td>\n",
       "      <td>0</td>\n",
       "      <td>0</td>\n",
       "      <td>0</td>\n",
       "      <td>0</td>\n",
       "      <td>0</td>\n",
       "      <td>0</td>\n",
       "      <td>0</td>\n",
       "      <td>no</td>\n",
       "    </tr>\n",
       "    <tr>\n",
       "      <th>3</th>\n",
       "      <td>-0.905483</td>\n",
       "      <td>0.164300</td>\n",
       "      <td>-0.057490</td>\n",
       "      <td>-0.013292</td>\n",
       "      <td>0.032846</td>\n",
       "      <td>-0.232369</td>\n",
       "      <td>-0.186726</td>\n",
       "      <td>-0.156576</td>\n",
       "      <td>-0.221187</td>\n",
       "      <td>-0.169358</td>\n",
       "      <td>...</td>\n",
       "      <td>0</td>\n",
       "      <td>1</td>\n",
       "      <td>0</td>\n",
       "      <td>0</td>\n",
       "      <td>0</td>\n",
       "      <td>0</td>\n",
       "      <td>0</td>\n",
       "      <td>0</td>\n",
       "      <td>0</td>\n",
       "      <td>no</td>\n",
       "    </tr>\n",
       "    <tr>\n",
       "      <th>4</th>\n",
       "      <td>-0.905483</td>\n",
       "      <td>2.333990</td>\n",
       "      <td>-0.578608</td>\n",
       "      <td>-0.611308</td>\n",
       "      <td>-0.161186</td>\n",
       "      <td>-0.346991</td>\n",
       "      <td>-0.348131</td>\n",
       "      <td>-0.331476</td>\n",
       "      <td>-0.221187</td>\n",
       "      <td>1.335012</td>\n",
       "      <td>...</td>\n",
       "      <td>0</td>\n",
       "      <td>1</td>\n",
       "      <td>0</td>\n",
       "      <td>0</td>\n",
       "      <td>0</td>\n",
       "      <td>0</td>\n",
       "      <td>0</td>\n",
       "      <td>0</td>\n",
       "      <td>0</td>\n",
       "      <td>no</td>\n",
       "    </tr>\n",
       "  </tbody>\n",
       "</table>\n",
       "<p>5 rows × 80 columns</p>\n",
       "</div>"
      ],
      "text/plain": [
       "   LIMIT_BAL       AGE  BILL_AMT1  BILL_AMT2  BILL_AMT3  BILL_AMT4  BILL_AMT5  \\\n",
       "0  -1.136701 -1.245999  -0.642490  -0.647388  -0.667982  -0.672486  -0.663047   \n",
       "1  -0.365974 -1.029030  -0.659208  -0.666735  -0.639244  -0.621626  -0.606219   \n",
       "2  -0.597192 -0.161154  -0.298555  -0.493891  -0.482400  -0.449723  -0.417181   \n",
       "3  -0.905483  0.164300  -0.057490  -0.013292   0.032846  -0.232369  -0.186726   \n",
       "4  -0.905483  2.333990  -0.578608  -0.611308  -0.161186  -0.346991  -0.348131   \n",
       "\n",
       "   BILL_AMT6  PAY_AMT1  PAY_AMT2  ...  PAY_6_-2  PAY_6_0  PAY_6_2  PAY_6_3  \\\n",
       "0  -0.652713 -0.341936 -0.227082  ...         1        0        0        0   \n",
       "1  -0.597956 -0.341936 -0.213584  ...         0        0        1        0   \n",
       "2  -0.391623 -0.250287 -0.191884  ...         0        1        0        0   \n",
       "3  -0.156576 -0.221187 -0.169358  ...         0        1        0        0   \n",
       "4  -0.331476 -0.221187  1.335012  ...         0        1        0        0   \n",
       "\n",
       "   PAY_6_4  PAY_6_5  PAY_6_6  PAY_6_7  PAY_6_8  default  \n",
       "0        0        0        0        0        0      yes  \n",
       "1        0        0        0        0        0      yes  \n",
       "2        0        0        0        0        0       no  \n",
       "3        0        0        0        0        0       no  \n",
       "4        0        0        0        0        0       no  \n",
       "\n",
       "[5 rows x 80 columns]"
      ]
     },
     "execution_count": 24,
     "metadata": {},
     "output_type": "execute_result"
    }
   ],
   "source": [
    "kopia_zbioru.head()"
   ]
  },
  {
   "cell_type": "code",
   "execution_count": 25,
   "id": "40f9eff2",
   "metadata": {},
   "outputs": [
    {
     "data": {
      "text/plain": [
       "(30000, 80)"
      ]
     },
     "execution_count": 25,
     "metadata": {},
     "output_type": "execute_result"
    }
   ],
   "source": [
    "kopia_zbioru.shape"
   ]
  },
  {
   "cell_type": "markdown",
   "id": "ca16ff6b",
   "metadata": {},
   "source": [
    "Modyfikacje zmiennych przeprowadzamy na podzbiorze bazy danych z wybranymi w poprzednim kroku zmiennymi o pojedynczych wynikach powyżej 53%. Po kolei podwajamy moc każdej ze zmiennych."
   ]
  },
  {
   "cell_type": "code",
   "execution_count": 69,
   "id": "82fc29b4",
   "metadata": {},
   "outputs": [
    {
     "name": "stdout",
     "output_type": "stream",
     "text": [
      "PAY_0_0 0.7692791250584138\n",
      "PAY_2_2 0.7683233079476515\n",
      "PAY_0_2 0.7701490567477801\n",
      "PAY_AMT1 0.7688723616894777\n",
      "LIMIT_BAL 0.7671250034503578\n",
      "PAY_3_2 0.7690086333211753\n",
      "PAY_AMT2 0.768760850479696\n",
      "PAY_AMT3 0.7675719873760554\n",
      "PAY_2_0 0.7688182526430104\n",
      "PAY_4_2 0.7685604143287046\n",
      "PAY_AMT4 0.7682684797358125\n",
      "PAY_5_2 0.7686311888322142\n",
      "PAY_AMT6 0.7681760257420278\n",
      "PAY_6_2 0.7684526744034158\n",
      "PAY_3_0 0.7686961588579493\n",
      "PAY_AMT5 0.7674933048486772\n",
      "PAY_4_0 0.7683664745562122\n",
      "PAY_5_0 0.7682759674712912\n",
      "PAY_6_0 0.7683868756864822\n",
      "PAY_0_1 0.7684937311745406\n",
      "BILL_AMT6 0.7669024510936777\n",
      "BILL_AMT5 0.767138865249912\n",
      "BILL_AMT4 0.7672647171448139\n",
      "BILL_AMT1 0.7687337718698669\n"
     ]
    }
   ],
   "source": [
    "wyniki2 = []\n",
    "for zmienna in zmienne53:\n",
    "    dane = kopia_zbioru.copy()\n",
    "    # Podwojenie wartości zmiennej\n",
    "    dane[zmienna]=dane[zmienna]*2\n",
    "    # Walidacja modelu\n",
    "    wyniki_treningowe, wyniki_testowe, predykcje, indeksy = walidacja_krzyzowa_knn_2(n_neighbors=125, n_jobs=-1, p=1, features=zmienne53)\n",
    "    print(zmienna, np.mean(wyniki_testowe))\n",
    "    wyniki2.append((zmienna, np.mean(wyniki_testowe)))"
   ]
  },
  {
   "cell_type": "markdown",
   "id": "9a092c98",
   "metadata": {},
   "source": [
    "Posortujemy wyniki malejąco, żeby widzieć, podwojenie której zmiennej przynosi najlepsze efekty."
   ]
  },
  {
   "cell_type": "code",
   "execution_count": 70,
   "id": "695d84e5",
   "metadata": {},
   "outputs": [
    {
     "data": {
      "text/plain": [
       "[('PAY_0_2', 0.7701490567477801),\n",
       " ('PAY_0_0', 0.7692791250584138),\n",
       " ('PAY_3_2', 0.7690086333211753),\n",
       " ('PAY_AMT1', 0.7688723616894777),\n",
       " ('PAY_2_0', 0.7688182526430104),\n",
       " ('PAY_AMT2', 0.768760850479696),\n",
       " ('BILL_AMT1', 0.7687337718698669),\n",
       " ('PAY_3_0', 0.7686961588579493),\n",
       " ('PAY_5_2', 0.7686311888322142),\n",
       " ('PAY_4_2', 0.7685604143287046),\n",
       " ('PAY_0_1', 0.7684937311745406),\n",
       " ('PAY_6_2', 0.7684526744034158),\n",
       " ('PAY_6_0', 0.7683868756864822),\n",
       " ('PAY_4_0', 0.7683664745562122),\n",
       " ('PAY_2_2', 0.7683233079476515),\n",
       " ('PAY_5_0', 0.7682759674712912),\n",
       " ('PAY_AMT4', 0.7682684797358125),\n",
       " ('PAY_AMT6', 0.7681760257420278),\n",
       " ('PAY_AMT3', 0.7675719873760554),\n",
       " ('PAY_AMT5', 0.7674933048486772),\n",
       " ('BILL_AMT4', 0.7672647171448139),\n",
       " ('BILL_AMT5', 0.767138865249912),\n",
       " ('LIMIT_BAL', 0.7671250034503578),\n",
       " ('BILL_AMT6', 0.7669024510936777)]"
      ]
     },
     "execution_count": 70,
     "metadata": {},
     "output_type": "execute_result"
    }
   ],
   "source": [
    "wyniki2 = sorted(wyniki2, key=lambda x: x[1], reverse=True)\n",
    "wyniki2"
   ]
  },
  {
   "cell_type": "markdown",
   "id": "a611cc9f",
   "metadata": {},
   "source": [
    "Podwojenie zmiennych PAY_0_2, PAY_0_0, PAY_3_2, PAY_AMT1, PAY_2_0, PAY_AMT2 oraz BILL_AMT1 poprawiło wynik modelu w porównaniu do modelu o równych wagach przeprowadzonym na zmiennych o wynikach w pojednczych modelach przekraczających 53%. Jest to nieznaczna poprawa, ale sprawdzimy, czy w przypadku zwiększenia jeszcze mocniej wpływu zmiennej PAY_0_2 otrzymamy wyraźniejszą poprawę, ponieważ podowjenie tej zmiennej dało najlepsze rezutaty."
   ]
  },
  {
   "cell_type": "code",
   "execution_count": 71,
   "id": "fbf0da3f",
   "metadata": {},
   "outputs": [
    {
     "name": "stdout",
     "output_type": "stream",
     "text": [
      "1.5 0.7696692137044965\n",
      "2 0.7701490567477801\n",
      "3 0.7707454841664598\n",
      "4 0.7709993889039372\n"
     ]
    }
   ],
   "source": [
    "for k in [1.5, 2, 3, 4]:\n",
    "    dane = kopia_zbioru.copy()\n",
    "    # zwiększamy zmienną odpowiednią liczbę razy\n",
    "    dane[\"PAY_0_2\"]=dane[\"PAY_0_2\"]*k\n",
    "    wyniki_treningowe, wyniki_testowe, predykcje, indeksy = walidacja_krzyzowa_knn_2(n_neighbors=125, n_jobs=-1, p=1, features=zmienne53)\n",
    "    print(k, np.mean(wyniki_testowe))"
   ]
  },
  {
   "cell_type": "markdown",
   "id": "f129381b",
   "metadata": {},
   "source": [
    "Jako że im wyższa waga, tym lepszy wynik, sprawdzamy, czy dla jeszcze większych wag uzyskamy dalej poprawę."
   ]
  },
  {
   "cell_type": "code",
   "execution_count": 72,
   "id": "1f6eb957",
   "metadata": {},
   "outputs": [
    {
     "name": "stdout",
     "output_type": "stream",
     "text": [
      "5 0.7711461686272694\n",
      "6 0.7712185707732737\n",
      "7 0.771254671396908\n"
     ]
    }
   ],
   "source": [
    "for k in [5, 6, 7]:\n",
    "    dane = kopia_zbioru.copy()\n",
    "    # zwiększamy zmienną odpowiednią liczbę razy\n",
    "    dane[\"PAY_0_2\"]=dane[\"PAY_0_2\"]*k\n",
    "    wyniki_treningowe, wyniki_testowe, predykcje, indeksy = walidacja_krzyzowa_knn_2(n_neighbors=125, n_jobs=-1, p=1, features=zmienne53)\n",
    "    print(k, np.mean(wyniki_testowe))"
   ]
  },
  {
   "cell_type": "code",
   "execution_count": 73,
   "id": "43770a2e",
   "metadata": {},
   "outputs": [
    {
     "name": "stdout",
     "output_type": "stream",
     "text": [
      "8 0.7712575766579919\n",
      "9 0.7714136405532088\n",
      "10 0.7713697729426751\n"
     ]
    }
   ],
   "source": [
    "for k in [8, 9, 10]:\n",
    "    dane = kopia_zbioru.copy()\n",
    "    # zwiększamy zmienną odpowiednią liczbę razy\n",
    "    dane[\"PAY_0_2\"]=dane[\"PAY_0_2\"]*k\n",
    "    wyniki_treningowe, wyniki_testowe, predykcje, indeksy = walidacja_krzyzowa_knn_2(n_neighbors=125, n_jobs=-1, p=1, features=zmienne53)\n",
    "    print(k, np.mean(wyniki_testowe))"
   ]
  },
  {
   "cell_type": "markdown",
   "id": "9d8c7430",
   "metadata": {},
   "source": [
    "Najlepsze wyniki otrzymujemy 9-krotnie zwiększając wpływ zmiennej PAY_0_2. Zobaczymy, czy dodatkowe zwiększenie mocy zmiennej PAY_0_0, która osiągneła drugą w kojlejności największą poprawę modelu przy zwiększeniu 2-krotnie jej mocy, poprawi jeszcze otrzymywany wynik modelu dla wybranych wcześniej parametrów."
   ]
  },
  {
   "cell_type": "code",
   "execution_count": 74,
   "id": "3398f7f8",
   "metadata": {},
   "outputs": [
    {
     "name": "stdout",
     "output_type": "stream",
     "text": [
      "1.5 0.7713909398494019\n",
      "2 0.7715902125197253\n",
      "3 0.7717033993198605\n",
      "4 0.7714074604802392\n"
     ]
    }
   ],
   "source": [
    "for k in [1.5, 2, 3, 4]:\n",
    "    dane = kopia_zbioru.copy()\n",
    "    \n",
    "    # Dla dotychczas najlepszej wartości k dla duration ustalamy mnożnik i szukamy dla kolejnej zmiennej\n",
    "    dane[\"PAY_0_2\"]=dane[\"PAY_0_2\"]*9\n",
    "    \n",
    "    # k krotnie zwiększamy zmienną\n",
    "    dane[\"PAY_0_0\"]=dane[\"PAY_0_0\"]*k\n",
    "    wyniki_treningowe, wyniki_testowe, predykcje, indeksy = walidacja_krzyzowa_knn_2(n_neighbors=125, n_jobs=-1, p=1, features=zmienne53)\n",
    "    print(k, np.mean(wyniki_testowe))"
   ]
  },
  {
   "cell_type": "markdown",
   "id": "682240c0",
   "metadata": {},
   "source": [
    "Dla zwiększenia mocy drugiej zmiennej (PAY_0_0) 3-krotnie otrzymujemy najlepsze wyniki. Teraz sprawdzimy, czy zmiejszenie mocy zmiennych, dla których zwiększenie wag powodowało najmocniejsze obniżenie wyniku, przyniesie porawę w modelu."
   ]
  },
  {
   "cell_type": "code",
   "execution_count": 75,
   "id": "7b318576",
   "metadata": {},
   "outputs": [
    {
     "name": "stdout",
     "output_type": "stream",
     "text": [
      "0.1 0.7725564297299856\n",
      "0.25 0.7723557728977491\n",
      "0.4 0.772510183910473\n",
      "0.55 0.77198391015518\n",
      "0.7 0.7720003987758349\n",
      "0.85 0.7714877958762502\n"
     ]
    }
   ],
   "source": [
    "for k in [0.1, 0.25, 0.4, 0.55, 0.7,  0.85]:\n",
    "    dane = kopia_zbioru.copy()\n",
    "    \n",
    "    dane[\"PAY_0_2\"]=dane[\"PAY_0_2\"]*9\n",
    "    dane[\"PAY_0_0\"]=dane[\"PAY_0_0\"]*3\n",
    "    \n",
    "    # k krotnie zwiększamy zmienną\n",
    "    dane[\"BILL_AMT6\"]=dane[\"BILL_AMT6\"]*k\n",
    "    wyniki_treningowe, wyniki_testowe, predykcje, indeksy = walidacja_krzyzowa_knn_2(n_neighbors=125, n_jobs=-1, p=1, features=zmienne53)\n",
    "    print(k, np.mean(wyniki_testowe))"
   ]
  },
  {
   "cell_type": "markdown",
   "id": "a7bc7a47",
   "metadata": {},
   "source": [
    "Najlepsze wyniki otrzyujemy przy zmniejszeniu wpływu zmiennej BILL_AMT6 poprzez przepnożenie jej wartości przez 0,1 lub 0,4. Ponieważ dla 0,1 uzyskujemy nieznanie lepszą poprawę, decydujemy się na przypisanie tej wagi do zmiennej. W kolejnym kroku sprawdzimy, czy zmiejszenie wpływu kolejnej ze zmienych, dla których zwiększenie wagi pogarszało wynik modelu, wpłynie pozytywnie na niego. Analizujemy zmienną LIMIT_BAL."
   ]
  },
  {
   "cell_type": "code",
   "execution_count": 32,
   "id": "638fee9b",
   "metadata": {},
   "outputs": [
    {
     "name": "stdout",
     "output_type": "stream",
     "text": [
      "0.1 0.7678669155576829\n",
      "0.25 0.7700884762285941\n",
      "0.4 0.771037015609615\n",
      "0.55 0.771442368964403\n",
      "0.7 0.7715507857256474\n",
      "0.85 0.7723006000226206\n"
     ]
    }
   ],
   "source": [
    "for k in [0.1, 0.25, 0.4, 0.55, 0.7,  0.85]:\n",
    "    dane = kopia_zbioru.copy()\n",
    "    \n",
    "    dane[\"PAY_0_2\"]=dane[\"PAY_0_2\"]*9\n",
    "    dane[\"PAY_0_0\"]=dane[\"PAY_0_0\"]*3\n",
    "    dane[\"BILL_AMT6\"]=dane[\"BILL_AMT6\"]*0.1\n",
    "    \n",
    "    dane[\"LIMIT_BAL\"]=dane[\"LIMIT_BAL\"]*k\n",
    "    wyniki_treningowe, wyniki_testowe, predykcje, indeksy = walidacja_krzyzowa_knn_2(n_neighbors=125, n_jobs=-1, p=1, features=zmienne53)\n",
    "    print(k, np.mean(wyniki_testowe))"
   ]
  },
  {
   "cell_type": "code",
   "execution_count": 33,
   "id": "3fb8a4be",
   "metadata": {},
   "outputs": [
    {
     "name": "stdout",
     "output_type": "stream",
     "text": [
      "0.9 0.7723403094452909\n",
      "2 0.7714925162547336\n",
      "3 0.7706384204950416\n",
      "4 0.7692624738857367\n"
     ]
    }
   ],
   "source": [
    "for k in [0.9, 2, 3, 4]:\n",
    "    dane = kopia_zbioru.copy()\n",
    "    \n",
    "    dane[\"PAY_0_2\"]=dane[\"PAY_0_2\"]*9\n",
    "    dane[\"PAY_0_0\"]=dane[\"PAY_0_0\"]*3\n",
    "    dane[\"BILL_AMT6\"]=dane[\"BILL_AMT6\"]*0.1\n",
    "    \n",
    "    dane[\"LIMIT_BAL\"]=dane[\"LIMIT_BAL\"]*k\n",
    "    wyniki_treningowe, wyniki_testowe, predykcje, indeksy = walidacja_krzyzowa_knn_2(n_neighbors=125, n_jobs=-1, p=1, features=zmienne53)\n",
    "    print(k, np.mean(wyniki_testowe))"
   ]
  },
  {
   "cell_type": "markdown",
   "id": "05484c3f",
   "metadata": {},
   "source": [
    "Na wszelki wypadek sprawdzamy, czy zwiększenie jednak nie pomoże, ale nie otryzmujemy poprary, więc zostawiamy zmienną LIMIT_BAL z wagą 1. Spórbujemy jeszcze zmniejszyć wagę kolejnej zmiennej, w przypadku której zwiększenie siły powodowało obiżenie wyniku w modelu. Sprawdzamy wagi poniżej 1 dla zmiennej BILL_AMT5. "
   ]
  },
  {
   "cell_type": "code",
   "execution_count": 36,
   "id": "fe037d3f",
   "metadata": {},
   "outputs": [
    {
     "name": "stdout",
     "output_type": "stream",
     "text": [
      "0.1 0.7727285268785007\n",
      "0.25 0.7732397767150075\n",
      "0.4 0.7733946587508063\n",
      "0.55 0.7733249271898612\n",
      "0.7 0.7733660599118926\n",
      "0.85 0.7731240865647444\n"
     ]
    }
   ],
   "source": [
    "for k in [0.1, 0.25, 0.4, 0.55, 0.7,  0.85]:\n",
    "    dane = kopia_zbioru.copy()\n",
    "    \n",
    "    dane[\"PAY_0_2\"]=dane[\"PAY_0_2\"]*9\n",
    "    dane[\"PAY_0_0\"]=dane[\"PAY_0_0\"]*3\n",
    "    dane[\"BILL_AMT6\"]=dane[\"BILL_AMT6\"]*0.1\n",
    "    \n",
    "    dane[\"BILL_AMT5\"]=dane[\"BILL_AMT5\"]*k\n",
    "    wyniki_treningowe, wyniki_testowe, predykcje, indeksy = walidacja_krzyzowa_knn_2(n_neighbors=125, n_jobs=-1, p=1, features=zmienne53)\n",
    "    print(k, np.mean(wyniki_testowe))"
   ]
  },
  {
   "cell_type": "markdown",
   "id": "87f64cf1",
   "metadata": {},
   "source": [
    "Zmniejszenie wagi zmiennej do poziomu 0,4 przynosi największą poprawę, dlatego przypisujemy jej te wagę. Ostateczna wersja modleu prezentuje się jak poniżej."
   ]
  },
  {
   "cell_type": "code",
   "execution_count": 38,
   "id": "5b5f461e",
   "metadata": {},
   "outputs": [
    {
     "name": "stdout",
     "output_type": "stream",
     "text": [
      "0.7733946587508063\n"
     ]
    }
   ],
   "source": [
    "dane = kopia_zbioru.copy()\n",
    "\n",
    "dane[\"PAY_0_2\"]=dane[\"PAY_0_2\"]*9\n",
    "dane[\"PAY_0_0\"]=dane[\"PAY_0_0\"]*3\n",
    "dane[\"BILL_AMT6\"]=dane[\"BILL_AMT6\"]*0.1\n",
    "dane[\"BILL_AMT5\"]=dane[\"BILL_AMT5\"]*0.4\n",
    "\n",
    "wyniki_treningowe, wyniki_testowe, predykcje, indeksy = walidacja_krzyzowa_knn_2(n_neighbors=125, n_jobs=-1, p=1, features=zmienne53)\n",
    "print(np.mean(wyniki_testowe))\n",
    "\n",
    "modelkNN = {\n",
    "    \"nazwa\":\"KNN\",\n",
    "    \"opis\":\"Model KNN z parametrami: 125 sąsiadów i miara odległości Manhattan (p=1). Zastosowana ograniczona liczba zmiennych i zmiana wag części z nich.\",\n",
    "    \"specyfikacja\":'n_neighbors=125, n_jobs=-1, p=1, features=zmiene53',\n",
    "    \"wyniki treningowe\":wyniki_treningowe.copy(),\n",
    "    \"wyniki testowe\":wyniki_testowe.copy(),\n",
    "    \"predykcje\":predykcje.copy(),\n",
    "    \"indeksy\":indeksy.copy(),\n",
    "}"
   ]
  },
  {
   "cell_type": "markdown",
   "id": "cd3f3499",
   "metadata": {},
   "source": [
    "# Zapis wyniku i krzywa ROC"
   ]
  },
  {
   "cell_type": "markdown",
   "id": "3befd23e",
   "metadata": {},
   "source": [
    "Zapisujemy wyniki"
   ]
  },
  {
   "cell_type": "code",
   "execution_count": 39,
   "id": "eba48cda",
   "metadata": {},
   "outputs": [],
   "source": [
    "import pickle\n",
    "\n",
    "# Otwieramy plik do zapisu binarnego\n",
    "with open(\"KNN_model_1.p\", \"wb\") as fp:\n",
    "    # Zapisujemy obiekt do wskaźnika pliku\n",
    "    pickle.dump(modelkNN, fp)"
   ]
  },
  {
   "cell_type": "code",
   "execution_count": null,
   "id": "df0403a0",
   "metadata": {},
   "outputs": [],
   "source": [
    "Tu będziemy mogli porównanć z innymi wynikami."
   ]
  },
  {
   "cell_type": "code",
   "execution_count": 40,
   "id": "174f81cb",
   "metadata": {},
   "outputs": [],
   "source": [
    "from sklearn.metrics import roc_curve, roc_auc_score\n",
    "\n",
    "def wykres_ROC(wyniki):\n",
    "    ''' Funkcja, do rysowania szeregu wyników krzywych ROC dla poszczególnych eksperymentów\n",
    "    results - lista wyników jako 3 elementowe tuple (true, pred, label)\n",
    "    '''\n",
    "    \n",
    "    fig, ax = plt.subplots(figsize=(10,9))\n",
    "        \n",
    "    for true, pred, label in wyniki:\n",
    "        \n",
    "        # Trzy serie danych, fpr, tpr oraz poziomy progów odcięcia\n",
    "        fpr, tpr, thresholds = roc_curve(true, pred)\n",
    "        # Pole powierzchni pod krzywą\n",
    "        oszacowanieROC = roc_auc_score(true, pred)\n",
    "        oszacowanieROC = round(oszacowanieROC, 3)\n",
    "        # Krzywa ROC\n",
    "        ax.plot(fpr, tpr, lw=2, label=f'{label}: {oszacowanieROC}')\n",
    "        \n",
    "    # Krzywa 45 stopni jako punkt odniesienia\n",
    "    ax.plot([0, 1], [0, 1], color='navy', lw=2, linestyle='--')\n",
    "    # Dodajemy marginesy do zakresu\n",
    "    ax.set_xlim([-0.01, 1.0])\n",
    "    ax.set_ylim([0.0, 1.01])\n",
    "    ax.set_xlabel('Odsetek wyników fałszywie pozytywnych')\n",
    "    ax.set_ylabel('Odsetek wyników prawdziwie pozytywnych')\n",
    "    ax.set_title(f'Receiver operating characteristic - {oszacowanieROC}')\n",
    "    ax.legend(loc=\"lower right\")\n",
    "    plt.show()"
   ]
  },
  {
   "cell_type": "code",
   "execution_count": null,
   "id": "3817f211",
   "metadata": {},
   "outputs": [],
   "source": [
    "Tu będziemy mogli dodać krzywe ROC z innych modeli do porównania"
   ]
  },
  {
   "cell_type": "code",
   "execution_count": 45,
   "id": "a59fe385",
   "metadata": {},
   "outputs": [
    {
     "data": {
      "image/png": "[encoded data removed]",
      "text/plain": [
       "<Figure size 720x648 with 1 Axes>"
      ]
     },
     "metadata": {
      "needs_background": "light"
     },
     "output_type": "display_data"
    }
   ],
   "source": [
    "wynikiWYKRES= []\n",
    "true = (dane[objasniana]==\"yes\").astype(int).sort_index()\n",
    "for wynik in [modelkNN]:\n",
    "    # Wektor predykcji na podstawie serii pandas, posortowany wedle indeksów\n",
    "    pred = pd.Series(sum(wynik[\"predykcje\"], []), index=sum(wynik[\"indeksy\"], [])).sort_index()\n",
    "    wynikiWYKRES.append((true, pred, wynik[\"nazwa\"]))\n",
    "    \n",
    "# Wywołujemy funkcję do rysowania\n",
    "wykres_ROC(wynikiWYKRES)"
   ]
  },
  {
   "cell_type": "code",
   "execution_count": null,
   "id": "79c6c057",
   "metadata": {},
   "outputs": [],
   "source": []
  }
 ],
 "metadata": {
  "kernelspec": {
   "display_name": "Python 3",
   "language": "python",
   "name": "python3"
  },
  "language_info": {
   "codemirror_mode": {
    "name": "ipython",
    "version": 3
   },
   "file_extension": ".py",
   "mimetype": "text/x-python",
   "name": "python",
   "nbconvert_exporter": "python",
   "pygments_lexer": "ipython3",
   "version": "3.9.4"
  }
 },
 "nbformat": 4,
 "nbformat_minor": 5
}
